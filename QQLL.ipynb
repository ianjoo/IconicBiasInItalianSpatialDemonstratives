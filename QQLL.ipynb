{
 "cells": [
  {
   "cell_type": "code",
   "execution_count": 39,
   "metadata": {},
   "outputs": [],
   "source": [
    "from gensim.models import KeyedVectors"
   ]
  },
  {
   "cell_type": "code",
   "execution_count": 40,
   "metadata": {},
   "outputs": [],
   "source": [
    "word_vectors = KeyedVectors.load(\"W2V.kv\", mmap='r+')"
   ]
  },
  {
   "cell_type": "code",
   "execution_count": 41,
   "metadata": {},
   "outputs": [],
   "source": [
    "vocabs = word_vectors.index_to_key\n",
    "vectors = word_vectors.vectors"
   ]
  },
  {
   "cell_type": "code",
   "execution_count": 42,
   "metadata": {},
   "outputs": [],
   "source": [
    "import pandas as pd\n",
    "import scipy\n",
    "import scipy.special\n",
    "import numpy as np\n",
    "import scipy.stats as stats\n",
    "import statsmodels as sm"
   ]
  },
  {
   "cell_type": "code",
   "execution_count": 91,
   "metadata": {},
   "outputs": [],
   "source": [
    "Q = [[word_vectors.similarity(\"qui\", \"questo\"), \n",
    "         word_vectors.similarity(\"qui\", \"quello\")],\n",
    "     [word_vectors.similarity(\"qua\", \"questo\"), \n",
    "         word_vectors.similarity(\"qua\", \"quello\")],\n",
    "     [word_vectors.similarity(\"lì\", \"questo\"), \n",
    "         word_vectors.similarity(\"lì\", \"quello\")],\n",
    "        [word_vectors.similarity(\"là\", \"questo\"), \n",
    "         word_vectors.similarity(\"là\", \"quello\")]]"
   ]
  },
  {
   "cell_type": "code",
   "execution_count": 92,
   "metadata": {},
   "outputs": [],
   "source": [
    "Qp = [['qui+\\nquesto','qui+\\nquello'], ['qua+\\nquesto','qua+\\nquello'], ['lì+\\nquesto', 'lì+\\nquello'], ['là+\\nquesto', 'là+\\nquello']]"
   ]
  },
  {
   "cell_type": "code",
   "execution_count": 93,
   "metadata": {},
   "outputs": [
    {
     "data": {
      "image/png": "[encoded data removed]",
      "text/plain": [
       "<Figure size 432x288 with 1 Axes>"
      ]
     },
     "metadata": {
      "needs_background": "light"
     },
     "output_type": "display_data"
    }
   ],
   "source": [
    "import matplotlib.pyplot as plt\n",
    "X = np.arange(2)\n",
    "fig = plt.figure()\n",
    "ax = fig.add_axes([0,0,1,1])\n",
    "ax.bar(Qp[0], Q[0], color = 'darkblue', width = 0.5)\n",
    "ax.bar(Qp[1], Q[1], color = 'skyblue', width = 0.5)\n",
    "ax.bar(Qp[2], Q[2], color = 'darkblue', width = 0.5)\n",
    "ax.bar(Qp[3], Q[3], color = 'skyblue', width = 0.5)\n",
    "plt.savefig('QQLLquesto.pdf', bbox_inches='tight')"
   ]
  },
  {
   "cell_type": "code",
   "execution_count": 94,
   "metadata": {},
   "outputs": [],
   "source": [
    "V = [[word_vectors.similarity(\"qui\", \"vicino\"), \n",
    "         word_vectors.similarity(\"qui\", \"lontano\")],\n",
    "     [word_vectors.similarity(\"qua\", \"vicino\"), \n",
    "         word_vectors.similarity(\"qua\", \"lontano\")],\n",
    "     [word_vectors.similarity(\"lì\", \"vicino\"), \n",
    "         word_vectors.similarity(\"lì\", \"lontano\")],\n",
    "        [word_vectors.similarity(\"là\", \"vicino\"), \n",
    "         word_vectors.similarity(\"là\", \"lontano\")]]"
   ]
  },
  {
   "cell_type": "code",
   "execution_count": 95,
   "metadata": {},
   "outputs": [],
   "source": [
    "Vp = [['qui+\\nvicino','qui+\\nlontano'], ['qua+\\nvicino','qua+\\nlontano'], ['lì+\\nvicino', 'lì+\\nlontano'], ['là+\\nvicino', 'là+\\nlontano']]"
   ]
  },
  {
   "cell_type": "code",
   "execution_count": 96,
   "metadata": {},
   "outputs": [
    {
     "data": {
      "image/png": "[encoded data removed]",
      "text/plain": [
       "<Figure size 432x288 with 1 Axes>"
      ]
     },
     "metadata": {
      "needs_background": "light"
     },
     "output_type": "display_data"
    }
   ],
   "source": [
    "X = np.arange(2)\n",
    "fig = plt.figure()\n",
    "ax = fig.add_axes([0,0,1,1])\n",
    "ax.bar(Vp[0], V[0], color = 'darkblue', width = 0.5)\n",
    "ax.bar(Vp[1], V[1], color = 'skyblue', width = 0.5)\n",
    "ax.bar(Vp[2], V[2], color = 'darkblue', width = 0.5)\n",
    "ax.bar(Vp[3], V[3], color = 'skyblue', width = 0.5)\n",
    "plt.savefig('QQLLvicino.pdf', bbox_inches='tight')"
   ]
  },
  {
   "cell_type": "code",
   "execution_count": 97,
   "metadata": {},
   "outputs": [],
   "source": [
    "I = [[word_vectors.similarity(\"qui\", \"io\"), \n",
    "         word_vectors.similarity(\"qui\", \"tu\")],\n",
    "     [word_vectors.similarity(\"qua\", \"io\"), \n",
    "         word_vectors.similarity(\"qua\", \"tu\")],\n",
    "     [word_vectors.similarity(\"lì\", \"io\"), \n",
    "         word_vectors.similarity(\"lì\", \"tu\")],\n",
    "        [word_vectors.similarity(\"là\", \"io\"), \n",
    "         word_vectors.similarity(\"là\", \"tu\")]]"
   ]
  },
  {
   "cell_type": "code",
   "execution_count": 98,
   "metadata": {},
   "outputs": [],
   "source": [
    "Ip = [['qui+\\nio','qui+\\ntu'], ['qua+\\nio','qua+\\ntu'], ['lì+\\nio', 'lì+\\ntu'], ['là+\\nio', 'là+\\ntu']]"
   ]
  },
  {
   "cell_type": "code",
   "execution_count": 99,
   "metadata": {},
   "outputs": [
    {
     "data": {
      "image/png": "[encoded data removed]",
      "text/plain": [
       "<Figure size 432x288 with 1 Axes>"
      ]
     },
     "metadata": {
      "needs_background": "light"
     },
     "output_type": "display_data"
    }
   ],
   "source": [
    "X = np.arange(2)\n",
    "fig = plt.figure()\n",
    "ax = fig.add_axes([0,0,1,1])\n",
    "ax.bar(Ip[0], I[0], color = 'darkblue', width = 0.5)\n",
    "ax.bar(Ip[1], I[1], color = 'skyblue', width = 0.5)\n",
    "ax.bar(Ip[2], I[2], color = 'darkblue', width = 0.5)\n",
    "ax.bar(Ip[3], I[3], color = 'skyblue', width = 0.5)\n",
    "plt.savefig('QQLLio.pdf', bbox_inches='tight')"
   ]
  },
  {
   "cell_type": "code",
   "execution_count": 100,
   "metadata": {},
   "outputs": [],
   "source": [
    "P = [[word_vectors.similarity(\"qui\", \"proprio\"), \n",
    "         word_vectors.similarity(\"qui\", \"intorno\")],\n",
    "     [word_vectors.similarity(\"qua\", \"proprio\"), \n",
    "         word_vectors.similarity(\"qua\", \"intorno\")],\n",
    "     [word_vectors.similarity(\"lì\", \"proprio\"), \n",
    "         word_vectors.similarity(\"lì\", \"intorno\")],\n",
    "        [word_vectors.similarity(\"là\", \"proprio\"), \n",
    "         word_vectors.similarity(\"là\", \"intorno\")]]"
   ]
  },
  {
   "cell_type": "code",
   "execution_count": 101,
   "metadata": {},
   "outputs": [],
   "source": [
    "Pp = [['qui+\\nproprio','qui+\\nintorno'], ['qua+\\nproprio','qua+\\nintorno'], ['lì+\\nproprio', 'lì+\\nintorno'], ['là+\\nproprio', 'là+\\nintorno']]"
   ]
  },
  {
   "cell_type": "code",
   "execution_count": 102,
   "metadata": {},
   "outputs": [
    {
     "data": {
      "image/png": "[encoded data removed]",
      "text/plain": [
       "<Figure size 432x288 with 1 Axes>"
      ]
     },
     "metadata": {
      "needs_background": "light"
     },
     "output_type": "display_data"
    }
   ],
   "source": [
    "X = np.arange(2)\n",
    "fig = plt.figure()\n",
    "ax = fig.add_axes([0,0,1,1])\n",
    "ax.bar(Pp[0], P[0], color = 'darkblue', width = 0.5)\n",
    "ax.bar(Pp[1], P[1], color = 'skyblue', width = 0.5)\n",
    "ax.bar(Pp[2], P[2], color = 'darkblue', width = 0.5)\n",
    "ax.bar(Pp[3], P[3], color = 'skyblue', width = 0.5)\n",
    "plt.savefig('QQLLproprio.pdf', bbox_inches='tight')"
   ]
  },
  {
   "cell_type": "code",
   "execution_count": 103,
   "metadata": {},
   "outputs": [],
   "source": [
    "IP = [[word_vectors.similarity(\"qui\", \"preciso\"), \n",
    "         word_vectors.similarity(\"qui\", \"impreciso\")],\n",
    "     [word_vectors.similarity(\"qua\", \"preciso\"), \n",
    "         word_vectors.similarity(\"qua\", \"impreciso\")],\n",
    "     [word_vectors.similarity(\"lì\", \"preciso\"), \n",
    "         word_vectors.similarity(\"lì\", \"impreciso\")],\n",
    "        [word_vectors.similarity(\"là\", \"preciso\"), \n",
    "         word_vectors.similarity(\"là\", \"impreciso\")]]"
   ]
  },
  {
   "cell_type": "code",
   "execution_count": 104,
   "metadata": {},
   "outputs": [],
   "source": [
    "IPp = [['qui+\\npreciso','qui+\\nimpreciso'], ['qua+\\npreciso','qua+\\nimpreciso'], ['lì+\\npreciso', 'lì+\\nimpreciso'], ['là+\\npreciso', 'là+\\nimpreciso']]"
   ]
  },
  {
   "cell_type": "code",
   "execution_count": 105,
   "metadata": {},
   "outputs": [
    {
     "data": {
      "image/png": "[encoded data removed]",
      "text/plain": [
       "<Figure size 432x288 with 1 Axes>"
      ]
     },
     "metadata": {
      "needs_background": "light"
     },
     "output_type": "display_data"
    }
   ],
   "source": [
    "X = np.arange(2)\n",
    "fig = plt.figure()\n",
    "ax = fig.add_axes([0,0,1,1])\n",
    "ax.bar(IPp[0], IP[0], color = 'darkblue', width = 0.5)\n",
    "ax.bar(IPp[1], IP[1], color = 'skyblue', width = 0.5)\n",
    "ax.bar(IPp[2], IP[2], color = 'darkblue', width = 0.5)\n",
    "ax.bar(IPp[3], IP[3], color = 'skyblue', width = 0.5)\n",
    "plt.savefig('QQLLpreciso.pdf', bbox_inches='tight')"
   ]
  },
  {
   "cell_type": "code",
   "execution_count": 106,
   "metadata": {},
   "outputs": [],
   "source": [
    "S = [[word_vectors.similarity(\"qui\", \"stretto\"), \n",
    "         word_vectors.similarity(\"qui\", \"largo\")],\n",
    "     [word_vectors.similarity(\"qua\", \"stretto\"), \n",
    "         word_vectors.similarity(\"qua\", \"largo\")],\n",
    "     [word_vectors.similarity(\"lì\", \"stretto\"), \n",
    "         word_vectors.similarity(\"lì\", \"largo\")],\n",
    "        [word_vectors.similarity(\"là\", \"stretto\"), \n",
    "         word_vectors.similarity(\"là\", \"largo\")]]"
   ]
  },
  {
   "cell_type": "code",
   "execution_count": 107,
   "metadata": {},
   "outputs": [],
   "source": [
    "Sp = [['qui+\\nstretto','qui+\\nlargo'], ['qua+\\nstretto','qua+\\nlargo'], ['lì+\\nstretto', 'lì+\\nlargo'], ['là+\\nstretto', 'là+\\nlargo']]"
   ]
  },
  {
   "cell_type": "code",
   "execution_count": 108,
   "metadata": {},
   "outputs": [
    {
     "data": {
      "image/png": "[encoded data removed]",
      "text/plain": [
       "<Figure size 432x288 with 1 Axes>"
      ]
     },
     "metadata": {
      "needs_background": "light"
     },
     "output_type": "display_data"
    }
   ],
   "source": [
    "X = np.arange(2)\n",
    "fig = plt.figure()\n",
    "ax = fig.add_axes([0,0,1,1])\n",
    "ax.bar(Sp[0], S[0], color = 'darkblue', width = 0.5)\n",
    "ax.bar(Sp[1], S[1], color = 'skyblue', width = 0.5)\n",
    "ax.bar(Sp[2], S[2], color = 'darkblue', width = 0.5)\n",
    "ax.bar(Sp[3], S[3], color = 'skyblue', width = 0.5)\n",
    "plt.savefig('QQLLstretto.pdf', bbox_inches='tight')"
   ]
  },
  {
   "cell_type": "code",
   "execution_count": null,
   "metadata": {},
   "outputs": [],
   "source": []
  }
 ],
 "metadata": {
  "kernelspec": {
   "display_name": "Python 3",
   "language": "python",
   "name": "python3"
  },
  "language_info": {
   "codemirror_mode": {
    "name": "ipython",
    "version": 3
   },
   "file_extension": ".py",
   "mimetype": "text/x-python",
   "name": "python",
   "nbconvert_exporter": "python",
   "pygments_lexer": "ipython3",
   "version": "3.8.3"
  }
 },
 "nbformat": 4,
 "nbformat_minor": 4
}
